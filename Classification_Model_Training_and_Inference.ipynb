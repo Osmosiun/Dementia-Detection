{
  "cells": [
    {
      "cell_type": "code",
      "execution_count": null,
      "metadata": {
        "id": "JzM2fzleBWvt"
      },
      "outputs": [],
      "source": [
        "import numpy as np # linear algebra\n",
        "import pandas as pd # data processing, CSV file I/O (e.g. pd.read_csv)\n",
        "import os\n",
        "import gc\n",
        "import tensorflow as tf\n",
        "from sklearn.utils import shuffle\n",
        "\n",
        "from tensorflow.keras.applications import ResNet50, DenseNet121\n",
        "from tensorflow.keras.layers import *\n",
        "from tensorflow.keras.models import Model\n",
        "from tensorflow.keras.losses import *\n",
        "from tensorflow.keras.callbacks import ModelCheckpoint, ReduceLROnPlateau\n",
        "\n",
        "import matplotlib.pyplot as plt"
      ]
    },
    {
      "cell_type": "code",
      "execution_count": null,
      "metadata": {
        "colab": {
          "base_uri": "https://localhost:8080/"
        },
        "id": "2i1JNfk3DBtn",
        "outputId": "ebcac687-40df-4134-c4ce-17dab5aacc13"
      },
      "outputs": [
        {
          "name": "stdout",
          "output_type": "stream",
          "text": [
            "Mounted at /content/drive\n"
          ]
        }
      ],
      "source": [
        "from google.colab import drive\n",
        "drive.mount('/content/drive')"
      ]
    },
    {
      "cell_type": "markdown",
      "metadata": {
        "id": "WGnmhUX6BWvz"
      },
      "source": [
        "## Prepare Original Dataset"
      ]
    },
    {
      "cell_type": "code",
      "execution_count": null,
      "metadata": {
        "id": "y7d1g2wAChxO"
      },
      "outputs": [],
      "source": [
        "pd_train_images = np.load('/content/drive/MyDrive/Research/PPMI/PD-TRAIN-IMAGES.npy')\n",
        "pd_test_images = np.load('/content/drive/MyDrive/Research/PPMI/PD-TEST-IMAGES.npy')\n",
        "pd_train_labels = np.ones((pd_train_images.shape[0],1))\n",
        "pd_test_labels = np.ones((pd_test_images.shape[0],1))\n",
        "\n",
        "hc_train_images = np.load('/content/drive/MyDrive/Research/PPMI/HC-TRAIN-IMAGES.npy')\n",
        "hc_test_images = np.load('/content/drive/MyDrive/Research/PPMI/HC-TEST-IMAGES.npy')\n",
        "hc_train_labels = np.zeros((hc_train_images.shape[0],1))\n",
        "hc_test_labels = np.zeros((hc_test_images.shape[0],1))"
      ]
    },
    {
      "cell_type": "code",
      "execution_count": null,
      "metadata": {
        "id": "k2s6L4LHDkxK"
      },
      "outputs": [],
      "source": [
        "X_train = np.concatenate((pd_train_images,hc_train_images))\n",
        "X_test = np.concatenate((pd_test_images,hc_test_images))\n",
        "\n",
        "y_train = np.concatenate((pd_train_labels,hc_train_labels))\n",
        "y_test = np.concatenate((pd_test_labels,hc_test_labels))"
      ]
    },
    {
      "cell_type": "code",
      "execution_count": null,
      "metadata": {
        "colab": {
          "base_uri": "https://localhost:8080/"
        },
        "id": "84j6T0ApBWv-",
        "outputId": "d49aefeb-538d-45b9-d95a-7862404c6c6d"
      },
      "outputs": [
        {
          "data": {
            "text/plain": [
              "((1120, 128, 128, 1), (1120, 1))"
            ]
          },
          "execution_count": 5,
          "metadata": {},
          "output_type": "execute_result"
        }
      ],
      "source": [
        "X_train,y_train = shuffle(X_train,y_train)\n",
        "X_train.shape,y_train.shape"
      ]
    },
    {
      "cell_type": "markdown",
      "metadata": {
        "id": "irukzOQdEmMg"
      },
      "source": [
        "## Add Augmented Images from Generative models"
      ]
    },
    {
      "cell_type": "code",
      "execution_count": null,
      "metadata": {
        "id": "dxyVzBFHEoqH"
      },
      "outputs": [],
      "source": [
        "pd_generated = np.load('/content/drive/MyDrive/Research/PPMI/GAN1-FT-PD.npy')\n",
        "pd_test_labels = np.ones((pd_generated.shape[0],1))\n",
        "\n",
        "hc_generated = np.load('/content/drive/MyDrive/Research/PPMI/GAN1-FT-HC.npy')\n",
        "hc_labels = np.zeros((hc_generated.shape[0],1))\n",
        "\n",
        "generated_images = np.concatenate((pd_generated,hc_generated))\n",
        "generated_labels = np.concatenate((pd_test_labels,hc_labels))\n",
        "\n",
        "X_train = np.concatenate((X_train,generated_images))\n",
        "y_train = np.concatenate((y_train,generated_labels))\n",
        "\n",
        "X_train,y_train = shuffle(X_train,y_train)\n",
        "X_train,y_train = shuffle(X_train,y_train)"
      ]
    },
    {
      "cell_type": "code",
      "execution_count": null,
      "metadata": {
        "colab": {
          "base_uri": "https://localhost:8080/"
        },
        "id": "Ae3PxtgXVNo9",
        "outputId": "cfa72cbf-89d0-4151-8191-439890c523b0"
      },
      "outputs": [
        {
          "data": {
            "text/plain": [
              "((3120, 128, 128, 1), (3120, 1))"
            ]
          },
          "execution_count": 7,
          "metadata": {},
          "output_type": "execute_result"
        }
      ],
      "source": [
        "X_train.shape,y_train.shape"
      ]
    },
    {
      "cell_type": "markdown",
      "metadata": {
        "id": "EROJfpOxFFl_"
      },
      "source": [
        "## Expand Channels"
      ]
    },
    {
      "cell_type": "code",
      "execution_count": null,
      "metadata": {
        "id": "WQr8sr3oFJKG"
      },
      "outputs": [],
      "source": [
        "X_train_before = X_train\n",
        "X_test_before = X_test\n",
        "\n",
        "X_train = np.zeros((X_train_before.shape[0],128,128,3))\n",
        "X_test = np.zeros((X_test_before.shape[0],128,128,3))\n",
        "\n",
        "for i in range(X_train_before.shape[0]):\n",
        "  X_train[i,:,:,0] = X_train_before[i,:,:,0]\n",
        "  X_train[i,:,:,1] = X_train_before[i,:,:,0]\n",
        "  X_train[i,:,:,2] = X_train_before[i,:,:,0]\n",
        "\n",
        "for i in range(X_test_before.shape[0]):\n",
        "  X_test[i,:,:,0] = X_test_before[i,:,:,0]\n",
        "  X_test[i,:,:,1] = X_test_before[i,:,:,0]\n",
        "  X_test[i,:,:,2] = X_test_before[i,:,:,0]"
      ]
    },
    {
      "cell_type": "code",
      "execution_count": null,
      "metadata": {
        "colab": {
          "base_uri": "https://localhost:8080/"
        },
        "id": "_bUQnMUDGKc_",
        "outputId": "ca4103ce-9a88-4645-9080-84b8b4ee5d3c"
      },
      "outputs": [
        {
          "data": {
            "text/plain": [
              "((3120, 128, 128, 3), (832, 128, 128, 3), (3120, 1), (832, 1))"
            ]
          },
          "execution_count": 9,
          "metadata": {},
          "output_type": "execute_result"
        }
      ],
      "source": [
        "X_train.shape, X_test.shape, y_train.shape, y_test.shape"
      ]
    },
    {
      "cell_type": "markdown",
      "metadata": {
        "id": "zruOWuY4BWwX"
      },
      "source": [
        "## Build and Train Model (ResNet)"
      ]
    },
    {
      "cell_type": "code",
      "execution_count": null,
      "metadata": {
        "id": "75NnjAGvBWwX"
      },
      "outputs": [],
      "source": [
        "base_model = ResNet50(include_top = False, input_shape=(128,128,3))"
      ]
    },
    {
      "cell_type": "code",
      "execution_count": null,
      "metadata": {
        "colab": {
          "base_uri": "https://localhost:8080/"
        },
        "id": "JxvR4vIqBWwY",
        "outputId": "4f6918fb-e7a7-482d-99da-3a01a790cbda"
      },
      "outputs": [
        {
          "data": {
            "text/plain": [
              "<KerasTensor: shape=(None, 4, 4, 2048) dtype=float32 (created by layer 'conv5_block3_out')>"
            ]
          },
          "execution_count": 70,
          "metadata": {},
          "output_type": "execute_result"
        }
      ],
      "source": [
        "base_model.output"
      ]
    },
    {
      "cell_type": "code",
      "execution_count": null,
      "metadata": {
        "id": "qQF89kPFBWwY"
      },
      "outputs": [],
      "source": [
        "def classification_model():\n",
        "    inputs = Input((128,128,3))\n",
        "    x = base_model(inputs)\n",
        "    x = GlobalAveragePooling2D()(x)\n",
        "    x = Dense(64,activation='relu')(x)\n",
        "    x = Dense(10,activation='relu')(x)\n",
        "    x = Dense(1,activation='sigmoid')(x)\n",
        "    model = Model(inputs,x)\n",
        "    return model"
      ]
    },
    {
      "cell_type": "code",
      "execution_count": null,
      "metadata": {
        "colab": {
          "base_uri": "https://localhost:8080/"
        },
        "id": "9euCEUDJBWwY",
        "outputId": "95b22837-c3df-49bd-a371-a0a3427815ee"
      },
      "outputs": [
        {
          "name": "stdout",
          "output_type": "stream",
          "text": [
            "Model: \"model_5\"\n",
            "_________________________________________________________________\n",
            " Layer (type)                Output Shape              Param #   \n",
            "=================================================================\n",
            " input_12 (InputLayer)       [(None, 128, 128, 3)]     0         \n",
            "                                                                 \n",
            " resnet50 (Functional)       (None, 4, 4, 2048)        23587712  \n",
            "                                                                 \n",
            " global_average_pooling2d_5   (None, 2048)             0         \n",
            " (GlobalAveragePooling2D)                                        \n",
            "                                                                 \n",
            " dense_15 (Dense)            (None, 64)                131136    \n",
            "                                                                 \n",
            " dense_16 (Dense)            (None, 10)                650       \n",
            "                                                                 \n",
            " dense_17 (Dense)            (None, 1)                 11        \n",
            "                                                                 \n",
            "=================================================================\n",
            "Total params: 23,719,509\n",
            "Trainable params: 23,666,389\n",
            "Non-trainable params: 53,120\n",
            "_________________________________________________________________\n"
          ]
        }
      ],
      "source": [
        "model = classification_model()\n",
        "model.summary()"
      ]
    },
    {
      "cell_type": "code",
      "execution_count": null,
      "metadata": {
        "id": "91KdclfyBWwZ"
      },
      "outputs": [],
      "source": [
        "model.compile(optimizer='Adam',loss=BinaryCrossentropy(),metrics =[\"accuracy\"])"
      ]
    },
    {
      "cell_type": "code",
      "execution_count": null,
      "metadata": {
        "colab": {
          "base_uri": "https://localhost:8080/"
        },
        "id": "s5ALiRyzBWwZ",
        "outputId": "dab631ba-4637-4af7-d678-47185891cee8"
      },
      "outputs": [
        {
          "data": {
            "text/plain": [
              "10302"
            ]
          },
          "execution_count": 74,
          "metadata": {},
          "output_type": "execute_result"
        }
      ],
      "source": [
        "gc.collect()"
      ]
    },
    {
      "cell_type": "code",
      "execution_count": null,
      "metadata": {
        "id": "RxRbZcwbBWwZ"
      },
      "outputs": [],
      "source": [
        "weight_saver = ModelCheckpoint('/content/Resnet.h5',\n",
        "                            monitor= \"val_loss\",\n",
        "                            save_best_only=True,\n",
        "                            save_weights_only=True)\n",
        "lr_scheduler = tf.keras.callbacks.ReduceLROnPlateau(\n",
        "    monitor=\"val_loss\",\n",
        "    factor=0.1,\n",
        "    patience=3,\n",
        "    verbose=0,\n",
        "    mode=\"auto\",\n",
        "    min_delta=0.0001,\n",
        "    cooldown=0,\n",
        "    min_lr=0,\n",
        ")\n",
        "callbacks = [weight_saver,lr_scheduler]\n",
        "if os.path.exists('/content/Resnet.h5'):\n",
        "    os.remove('/content/Resnet.h5')"
      ]
    },
    {
      "cell_type": "code",
      "execution_count": null,
      "metadata": {
        "colab": {
          "base_uri": "https://localhost:8080/"
        },
        "id": "1qT9qFkzBWwa",
        "outputId": "ce6bcc07-ceea-43ab-cc77-359fb25f29a7"
      },
      "outputs": [
        {
          "name": "stdout",
          "output_type": "stream",
          "text": [
            "Epoch 1/20\n",
            "98/98 [==============================] - 22s 150ms/step - loss: 0.1181 - accuracy: 0.9542 - val_loss: 172.4691 - val_accuracy: 0.3077 - lr: 0.0010\n",
            "Epoch 2/20\n",
            "98/98 [==============================] - 14s 141ms/step - loss: 0.0459 - accuracy: 0.9856 - val_loss: 2.6226 - val_accuracy: 0.3077 - lr: 0.0010\n",
            "Epoch 3/20\n",
            "98/98 [==============================] - 14s 138ms/step - loss: 0.0207 - accuracy: 0.9942 - val_loss: 2.7506 - val_accuracy: 0.3077 - lr: 0.0010\n",
            "Epoch 4/20\n",
            "98/98 [==============================] - 13s 138ms/step - loss: 0.0226 - accuracy: 0.9920 - val_loss: 5.8102 - val_accuracy: 0.3077 - lr: 0.0010\n",
            "Epoch 5/20\n",
            "98/98 [==============================] - 14s 138ms/step - loss: 0.0278 - accuracy: 0.9920 - val_loss: 1.9343 - val_accuracy: 0.3077 - lr: 0.0010\n",
            "Epoch 6/20\n",
            "98/98 [==============================] - 14s 140ms/step - loss: 0.0321 - accuracy: 0.9891 - val_loss: 1.2996 - val_accuracy: 0.6923 - lr: 0.0010\n",
            "Epoch 7/20\n",
            "98/98 [==============================] - 13s 136ms/step - loss: 0.0131 - accuracy: 0.9955 - val_loss: 1.3647 - val_accuracy: 0.3822 - lr: 0.0010\n",
            "Epoch 8/20\n",
            "98/98 [==============================] - 13s 133ms/step - loss: 0.0118 - accuracy: 0.9958 - val_loss: 15.4928 - val_accuracy: 0.6923 - lr: 0.0010\n",
            "Epoch 9/20\n",
            "98/98 [==============================] - 13s 137ms/step - loss: 0.0147 - accuracy: 0.9952 - val_loss: 1.3984 - val_accuracy: 0.6106 - lr: 0.0010\n",
            "Epoch 10/20\n",
            "98/98 [==============================] - 13s 133ms/step - loss: 0.0057 - accuracy: 0.9987 - val_loss: 1.6061 - val_accuracy: 0.5769 - lr: 1.0000e-04\n",
            "Epoch 11/20\n",
            "98/98 [==============================] - 13s 138ms/step - loss: 0.0026 - accuracy: 0.9994 - val_loss: 1.0270 - val_accuracy: 0.6959 - lr: 1.0000e-04\n",
            "Epoch 12/20\n",
            "98/98 [==============================] - 13s 136ms/step - loss: 0.0016 - accuracy: 0.9997 - val_loss: 1.0739 - val_accuracy: 0.7163 - lr: 1.0000e-04\n",
            "Epoch 13/20\n",
            "98/98 [==============================] - 14s 140ms/step - loss: 4.6550e-04 - accuracy: 1.0000 - val_loss: 0.9621 - val_accuracy: 0.7596 - lr: 1.0000e-04\n",
            "Epoch 14/20\n",
            "98/98 [==============================] - 13s 136ms/step - loss: 2.8477e-04 - accuracy: 1.0000 - val_loss: 1.0068 - val_accuracy: 0.7873 - lr: 1.0000e-04\n",
            "Epoch 15/20\n",
            "98/98 [==============================] - 13s 136ms/step - loss: 1.9887e-04 - accuracy: 1.0000 - val_loss: 1.0354 - val_accuracy: 0.7933 - lr: 1.0000e-04\n",
            "Epoch 16/20\n",
            "98/98 [==============================] - 13s 134ms/step - loss: 3.0699e-04 - accuracy: 1.0000 - val_loss: 1.0471 - val_accuracy: 0.7897 - lr: 1.0000e-04\n",
            "Epoch 17/20\n",
            "98/98 [==============================] - 13s 133ms/step - loss: 1.9840e-04 - accuracy: 1.0000 - val_loss: 1.0648 - val_accuracy: 0.7861 - lr: 1.0000e-05\n",
            "Epoch 18/20\n",
            "98/98 [==============================] - 13s 136ms/step - loss: 1.6401e-04 - accuracy: 1.0000 - val_loss: 1.0738 - val_accuracy: 0.7945 - lr: 1.0000e-05\n",
            "Epoch 19/20\n",
            "98/98 [==============================] - 13s 133ms/step - loss: 1.8712e-04 - accuracy: 1.0000 - val_loss: 1.0793 - val_accuracy: 0.7957 - lr: 1.0000e-05\n",
            "Epoch 20/20\n",
            "98/98 [==============================] - 13s 136ms/step - loss: 1.9914e-04 - accuracy: 1.0000 - val_loss: 1.0815 - val_accuracy: 0.7969 - lr: 1.0000e-06\n"
          ]
        },
        {
          "data": {
            "text/plain": [
              "<keras.callbacks.History at 0x7efc927130a0>"
            ]
          },
          "execution_count": 76,
          "metadata": {},
          "output_type": "execute_result"
        }
      ],
      "source": [
        "model.fit(X_train,y_train,batch_size=32,epochs=20,validation_data=(X_test,y_test),callbacks=callbacks)"
      ]
    },
    {
      "cell_type": "code",
      "execution_count": null,
      "metadata": {
        "id": "B63RRyLrBWwa"
      },
      "outputs": [],
      "source": [
        "model.load_weights('/content/Resnet.h5')"
      ]
    },
    {
      "cell_type": "markdown",
      "metadata": {
        "id": "CM-SarQQBWwa"
      },
      "source": [
        "## Build and Train Model (DenseNet)"
      ]
    },
    {
      "cell_type": "code",
      "execution_count": null,
      "metadata": {
        "colab": {
          "base_uri": "https://localhost:8080/"
        },
        "id": "nitM9HYrBWwb",
        "outputId": "870fc6a4-fb4a-4ad1-b549-f0264e11a747"
      },
      "outputs": [
        {
          "name": "stdout",
          "output_type": "stream",
          "text": [
            "Downloading data from https://storage.googleapis.com/tensorflow/keras-applications/densenet/densenet121_weights_tf_dim_ordering_tf_kernels_notop.h5\n",
            "29084464/29084464 [==============================] - 0s 0us/step\n"
          ]
        }
      ],
      "source": [
        "base_model = DenseNet121(include_top = False, input_shape=(128,128,3))"
      ]
    },
    {
      "cell_type": "code",
      "execution_count": null,
      "metadata": {
        "colab": {
          "base_uri": "https://localhost:8080/"
        },
        "id": "Gm_LNKmUBWwb",
        "outputId": "6725d18e-082d-4cf6-87f6-f8aeff7e7c53"
      },
      "outputs": [
        {
          "data": {
            "text/plain": [
              "<KerasTensor: shape=(None, 4, 4, 1024) dtype=float32 (created by layer 'relu')>"
            ]
          },
          "execution_count": 55,
          "metadata": {},
          "output_type": "execute_result"
        }
      ],
      "source": [
        "base_model.output"
      ]
    },
    {
      "cell_type": "code",
      "execution_count": null,
      "metadata": {
        "id": "xeiOSFhiBWwb"
      },
      "outputs": [],
      "source": [
        "def classification_model():\n",
        "    inputs = Input((128,128,3))\n",
        "    x = base_model(inputs)\n",
        "    x = GlobalAveragePooling2D()(x)\n",
        "    x = Dense(64,activation='relu')(x)\n",
        "    x = Dense(10,activation='relu')(x)\n",
        "    x = Dense(1,activation='sigmoid')(x)\n",
        "    model = Model(inputs,x)\n",
        "    return model"
      ]
    },
    {
      "cell_type": "code",
      "execution_count": null,
      "metadata": {
        "colab": {
          "base_uri": "https://localhost:8080/"
        },
        "id": "kdCbNifoBWwc",
        "outputId": "06b56df9-0853-4baa-902f-56acd7d612b2"
      },
      "outputs": [
        {
          "name": "stdout",
          "output_type": "stream",
          "text": [
            "Model: \"model_4\"\n",
            "_________________________________________________________________\n",
            " Layer (type)                Output Shape              Param #   \n",
            "=================================================================\n",
            " input_10 (InputLayer)       [(None, 128, 128, 3)]     0         \n",
            "                                                                 \n",
            " densenet121 (Functional)    (None, 4, 4, 1024)        7037504   \n",
            "                                                                 \n",
            " global_average_pooling2d_4   (None, 1024)             0         \n",
            " (GlobalAveragePooling2D)                                        \n",
            "                                                                 \n",
            " dense_12 (Dense)            (None, 64)                65600     \n",
            "                                                                 \n",
            " dense_13 (Dense)            (None, 10)                650       \n",
            "                                                                 \n",
            " dense_14 (Dense)            (None, 1)                 11        \n",
            "                                                                 \n",
            "=================================================================\n",
            "Total params: 7,103,765\n",
            "Trainable params: 7,020,117\n",
            "Non-trainable params: 83,648\n",
            "_________________________________________________________________\n"
          ]
        }
      ],
      "source": [
        "model = classification_model()\n",
        "model.summary()"
      ]
    },
    {
      "cell_type": "code",
      "execution_count": null,
      "metadata": {
        "id": "dnGwlU1SBWwc"
      },
      "outputs": [],
      "source": [
        "model.compile(optimizer='Adam',loss=BinaryCrossentropy(),metrics =[\"accuracy\"])"
      ]
    },
    {
      "cell_type": "code",
      "execution_count": null,
      "metadata": {
        "colab": {
          "base_uri": "https://localhost:8080/"
        },
        "id": "S42y5R0kBWwd",
        "outputId": "9437a90b-5b0e-4a50-e544-a7e3b9e87184"
      },
      "outputs": [
        {
          "data": {
            "text/plain": [
              "17888"
            ]
          },
          "execution_count": 59,
          "metadata": {},
          "output_type": "execute_result"
        }
      ],
      "source": [
        "gc.collect()"
      ]
    },
    {
      "cell_type": "code",
      "execution_count": null,
      "metadata": {
        "id": "3etAqUkqBWwd"
      },
      "outputs": [],
      "source": [
        "weight_saver = ModelCheckpoint('/content/Densenet.h5',\n",
        "                            monitor= \"val_loss\",\n",
        "                            save_best_only=True,\n",
        "                            save_weights_only=True)\n",
        "\n",
        "lr_scheduler = tf.keras.callbacks.ReduceLROnPlateau(\n",
        "    monitor=\"val_loss\",\n",
        "    factor=0.1,\n",
        "    patience=3,\n",
        "    verbose=0,\n",
        "    mode=\"auto\",\n",
        "    min_delta=0.0001,\n",
        "    cooldown=0,\n",
        "    min_lr=0,\n",
        ")\n",
        "callbacks = [weight_saver,lr_scheduler]\n",
        "if os.path.exists('/content/Densenet.h5'):\n",
        "    os.remove('/content/Densenet.h5')"
      ]
    },
    {
      "cell_type": "code",
      "execution_count": null,
      "metadata": {
        "colab": {
          "base_uri": "https://localhost:8080/"
        },
        "id": "TT8ukLxEBWwe",
        "outputId": "1e391b84-3116-4d49-f259-7666688b68e9"
      },
      "outputs": [
        {
          "name": "stdout",
          "output_type": "stream",
          "text": [
            "Epoch 1/20\n",
            "98/98 [==============================] - 31s 182ms/step - loss: 0.1167 - accuracy: 0.9516 - val_loss: 8.3588 - val_accuracy: 0.5577 - lr: 0.0010\n",
            "Epoch 2/20\n",
            "98/98 [==============================] - 14s 146ms/step - loss: 0.0163 - accuracy: 0.9942 - val_loss: 2.4243 - val_accuracy: 0.7188 - lr: 0.0010\n",
            "Epoch 3/20\n",
            "98/98 [==============================] - 14s 138ms/step - loss: 0.0424 - accuracy: 0.9856 - val_loss: 15.9389 - val_accuracy: 0.3942 - lr: 0.0010\n",
            "Epoch 4/20\n",
            "98/98 [==============================] - 14s 142ms/step - loss: 0.0189 - accuracy: 0.9946 - val_loss: 3.2721 - val_accuracy: 0.6947 - lr: 0.0010\n",
            "Epoch 5/20\n",
            "98/98 [==============================] - 14s 146ms/step - loss: 0.0081 - accuracy: 0.9981 - val_loss: 0.9417 - val_accuracy: 0.8197 - lr: 0.0010\n",
            "Epoch 6/20\n",
            "98/98 [==============================] - 14s 145ms/step - loss: 9.4387e-04 - accuracy: 0.9997 - val_loss: 0.7707 - val_accuracy: 0.7692 - lr: 0.0010\n",
            "Epoch 7/20\n",
            "98/98 [==============================] - 13s 137ms/step - loss: 0.0017 - accuracy: 0.9994 - val_loss: 4.9655 - val_accuracy: 0.6923 - lr: 0.0010\n",
            "Epoch 8/20\n",
            "98/98 [==============================] - 14s 142ms/step - loss: 2.0660e-04 - accuracy: 1.0000 - val_loss: 2.3307 - val_accuracy: 0.7512 - lr: 0.0010\n",
            "Epoch 9/20\n",
            "98/98 [==============================] - 14s 142ms/step - loss: 3.8692e-05 - accuracy: 1.0000 - val_loss: 1.1981 - val_accuracy: 0.7945 - lr: 0.0010\n",
            "Epoch 10/20\n",
            "98/98 [==============================] - 14s 141ms/step - loss: 4.3249e-05 - accuracy: 1.0000 - val_loss: 0.9156 - val_accuracy: 0.7909 - lr: 1.0000e-04\n",
            "Epoch 11/20\n",
            "98/98 [==============================] - 13s 137ms/step - loss: 1.7878e-05 - accuracy: 1.0000 - val_loss: 0.8269 - val_accuracy: 0.7945 - lr: 1.0000e-04\n",
            "Epoch 12/20\n",
            "98/98 [==============================] - 14s 146ms/step - loss: 4.2169e-05 - accuracy: 1.0000 - val_loss: 0.7641 - val_accuracy: 0.8005 - lr: 1.0000e-04\n",
            "Epoch 13/20\n",
            "98/98 [==============================] - 15s 148ms/step - loss: 6.2876e-05 - accuracy: 1.0000 - val_loss: 0.7436 - val_accuracy: 0.8017 - lr: 1.0000e-04\n",
            "Epoch 14/20\n",
            "98/98 [==============================] - 13s 137ms/step - loss: 2.3298e-05 - accuracy: 1.0000 - val_loss: 0.7723 - val_accuracy: 0.7981 - lr: 1.0000e-04\n",
            "Epoch 15/20\n",
            "98/98 [==============================] - 14s 142ms/step - loss: 2.0016e-05 - accuracy: 1.0000 - val_loss: 0.7687 - val_accuracy: 0.7969 - lr: 1.0000e-04\n",
            "Epoch 16/20\n",
            "98/98 [==============================] - 13s 137ms/step - loss: 3.3708e-05 - accuracy: 1.0000 - val_loss: 0.7624 - val_accuracy: 0.7981 - lr: 1.0000e-04\n",
            "Epoch 17/20\n",
            "98/98 [==============================] - 14s 141ms/step - loss: 1.5890e-05 - accuracy: 1.0000 - val_loss: 0.7898 - val_accuracy: 0.7945 - lr: 1.0000e-05\n",
            "Epoch 18/20\n",
            "98/98 [==============================] - 14s 141ms/step - loss: 2.1322e-05 - accuracy: 1.0000 - val_loss: 0.7849 - val_accuracy: 0.7945 - lr: 1.0000e-05\n",
            "Epoch 19/20\n",
            "98/98 [==============================] - 14s 141ms/step - loss: 1.4435e-05 - accuracy: 1.0000 - val_loss: 0.8022 - val_accuracy: 0.7945 - lr: 1.0000e-05\n",
            "Epoch 20/20\n",
            "98/98 [==============================] - 14s 142ms/step - loss: 2.0551e-05 - accuracy: 1.0000 - val_loss: 0.8093 - val_accuracy: 0.7957 - lr: 1.0000e-06\n"
          ]
        },
        {
          "data": {
            "text/plain": [
              "<keras.callbacks.History at 0x7efc96ba4be0>"
            ]
          },
          "execution_count": 61,
          "metadata": {},
          "output_type": "execute_result"
        }
      ],
      "source": [
        "model.fit(X_train,y_train,batch_size=32,epochs=20,validation_data=(X_test,y_test),callbacks=callbacks)"
      ]
    },
    {
      "cell_type": "code",
      "execution_count": null,
      "metadata": {
        "id": "UxOXcTcpBWwe"
      },
      "outputs": [],
      "source": [
        "model.load_weights('/content/Densenet.h5')"
      ]
    },
    {
      "cell_type": "markdown",
      "metadata": {
        "id": "bsyhltQ9BWwf"
      },
      "source": [
        "## Test Images"
      ]
    },
    {
      "cell_type": "code",
      "execution_count": null,
      "metadata": {
        "colab": {
          "base_uri": "https://localhost:8080/"
        },
        "id": "mKBHeiQpBWwl",
        "outputId": "2dd937b0-280f-47ee-b247-685a9bcbcc39"
      },
      "outputs": [
        {
          "name": "stdout",
          "output_type": "stream",
          "text": [
            "26/26 [==============================] - 1s 38ms/step\n"
          ]
        }
      ],
      "source": [
        "y_pred = model.predict(X_test)\n",
        "\n",
        "y_pred = (y_pred>0.5).astype(np.int32)"
      ]
    },
    {
      "cell_type": "code",
      "execution_count": null,
      "metadata": {
        "id": "2FNXxlnBBWwl"
      },
      "outputs": [],
      "source": [
        "from sklearn.metrics import accuracy_score, precision_score, recall_score, f1_score"
      ]
    },
    {
      "cell_type": "code",
      "execution_count": null,
      "metadata": {
        "colab": {
          "base_uri": "https://localhost:8080/"
        },
        "id": "Y61VkA0WBWwm",
        "outputId": "3ba2e231-237a-4f98-b8f1-a700d19cab9c"
      },
      "outputs": [
        {
          "data": {
            "text/plain": [
              "(0.7596153846153846,\n",
              " 0.8241379310344827,\n",
              " 0.8298611111111112,\n",
              " 0.8269896193771626)"
            ]
          },
          "execution_count": 83,
          "metadata": {},
          "output_type": "execute_result"
        }
      ],
      "source": [
        "accuracy_score(y_test,y_pred), precision_score(y_test,y_pred), recall_score(y_test,y_pred), f1_score(y_test,y_pred)"
      ]
    },
    {
      "cell_type": "code",
      "execution_count": null,
      "metadata": {
        "id": "kfttht2S-aNb"
      },
      "outputs": [],
      "source": [
        "(0.796875, 0.8194662480376766, 0.90625, 0.8606760098928278)"
      ]
    },
    {
      "cell_type": "code",
      "execution_count": null,
      "metadata": {
        "id": "8FamqEz5BWwq"
      },
      "outputs": [],
      "source": [
        "# resnet = (0.6923076923076923, 0.6923076923076923, 1.0, 0.8181818181818181)\n",
        "#resnet + GAN1 = (0.6899038461538461,0.6929611650485437,0.9913194444444444,0.8157142857142856)\n",
        "# resnet + GAN2 = ((0.7620192307692307,0.7755102040816326, 0.9236111111111112, 0.8431061806656102))\n",
        "# resnet + Diffusion = (0.8497596153846154,0.9033989266547406,0.8767361111111112,0.8898678414096917)\n",
        "# resnet + VAE = (0.8209134615384616, 0.8460291734197731, 0.90625, 0.8751047778709137)\n",
        "\n",
        "# DenseNet = (0.7716346153846154,0.7789017341040463,0.9357638888888888,0.8501577287066246)\n",
        "# DenseNet + GAN1 = (0.7633173076923077, 0.780627802690583, 0.933125, 0.8519277108433735)\n",
        "# DenseNet + GAN2 = (0.7980769230769231, 0.8119266055045872, 0.921875, 0.8634146341463416)\n",
        "# DenseNet + Diffusion = (0.9242788461538461,0.9621621621621622,0.9270833333333334,0.9442970822281168)\n",
        "# DenseNet + VAE = (0.8401442307692307,0.8825561312607945,0.8871527777777778,0.8848484848484849)"
      ]
    },
    {
      "cell_type": "code",
      "execution_count": null,
      "metadata": {
        "id": "7JOG-u-hNNIS"
      },
      "outputs": [],
      "source": []
    }
  ],
  "metadata": {
    "accelerator": "GPU",
    "colab": {
      "provenance": []
    },
    "gpuClass": "standard",
    "kernelspec": {
      "display_name": "Python 3",
      "language": "python",
      "name": "python3"
    },
    "language_info": {
      "codemirror_mode": {
        "name": "ipython",
        "version": 3
      },
      "file_extension": ".py",
      "mimetype": "text/x-python",
      "name": "python",
      "nbconvert_exporter": "python",
      "pygments_lexer": "ipython3",
      "version": "3.7.12"
    }
  },
  "nbformat": 4,
  "nbformat_minor": 0
}
